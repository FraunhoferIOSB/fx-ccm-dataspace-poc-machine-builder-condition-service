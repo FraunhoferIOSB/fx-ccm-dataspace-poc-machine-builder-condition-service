{
 "cells": [
  {
   "cell_type": "code",
   "execution_count": 1,
   "metadata": {},
   "outputs": [],
   "source": [
    "import requests # Apache License 2.0\n",
    "from requests.auth import HTTPBasicAuth\n",
    "\n",
    "import uuid     # in python\n",
    "import base64   # in python\n",
    "import yaml     # MIT\n",
    "\n",
    "\n",
    "from app.utils import get_data_offer, offer2et, create_poc_ContractRequest_body\n",
    "from app.utils import str_edc_catalog"
   ]
  },
  {
   "cell_type": "code",
   "execution_count": 2,
   "metadata": {},
   "outputs": [],
   "source": [
    "# --- variables ---\n",
    "with open('consumer_cfg.yaml', 'r') as file:\n",
    "    consumer_cfg = yaml.safe_load(file)\n",
    "\n",
    "# - control plane -\n",
    "url_edc_consumer_control_plane_base = consumer_cfg['consumer-edc-control-plane']['endpoint']\n",
    "header_control_plane = consumer_cfg['consumer-edc-control-plane']['header'] # this contains secrets, so please use -at least- a secretsmanager instead\n",
    "\n",
    "# - \"identities\" -\n",
    "edc_provider_bpn = consumer_cfg['trusted-providers']['Facotry_Operator_A']['BPN']  # \"{{EDCTX-10-1-BPN}}\"\n",
    "url_edc_provider_control_plane_base = consumer_cfg['trusted-providers']['Facotry_Operator_A']['endpoint-control-plane']"
   ]
  },
  {
   "cell_type": "code",
   "execution_count": 3,
   "metadata": {},
   "outputs": [],
   "source": [
    "# -------------------------------------------------------------------------------------------------------------------"
   ]
  },
  {
   "cell_type": "code",
   "execution_count": 19,
   "metadata": {},
   "outputs": [],
   "source": [
    "object_of_agreement = 'simple_test' # we 'magically' know this due to the push notification"
   ]
  },
  {
   "cell_type": "code",
   "execution_count": null,
   "metadata": {},
   "outputs": [],
   "source": [
    "# see if there are some edrs which have beennegotiated for\n",
    "agreement_body = {\n",
    "    \"@context\": {\n",
    "        \"@vocab\": \"https://w3id.org/edc/v0.0.1/ns/\"\n",
    "    },\n",
    "    \"@type\": \"QuerySpec\",\n",
    "    \"filterExpression\": [\n",
    "        {\n",
    "            \"operandLeft\": \"assetId\",\n",
    "            \"operator\": \"=\",\n",
    "            \"operandRight\": object_of_agreement,\n",
    "        }\n",
    "    ]\n",
    "}\n",
    "\n",
    "res_catalog_agreement = requests.post(url=url_edc_consumer_control_plane_base + '/management/v2/edrs/request', headers=header_control_plane, json=agreement_body)\n",
    "res_catalog_agreement"
   ]
  },
  {
   "cell_type": "code",
   "execution_count": null,
   "metadata": {},
   "outputs": [],
   "source": [
    "res_offer, offer = get_data_offer(res_catalog_agreement.json())\n",
    "print(\"Status Offer: \"+ str(res_offer))\n",
    "\n",
    "if res_offer == 0:\n",
    "    res_et, et_dict = offer2et(offer, url_edc_consumer_control_plane_base, header_control_plane)\n",
    "    if res_et == -2:\n",
    "        print(\"Token Request Failed:\" + str(et_dict))\n",
    "    else:\n",
    "        print(\"Status Endpoint and Token: \" + str(res_et))\n",
    "    "
   ]
  },
  {
   "cell_type": "code",
   "execution_count": 7,
   "metadata": {},
   "outputs": [],
   "source": [
    "# <<< if the above says: no offer available, GOTO the chapter \"Negotiate for Asset\" below and return here once the contract is finalized"
   ]
  },
  {
   "cell_type": "code",
   "execution_count": null,
   "metadata": {},
   "outputs": [],
   "source": [
    "# obtain data:\n",
    "res_data_info = requests.get(url=et_dict['endpoint'], headers={'Authorization': et_dict['token']})\n",
    "res_data_info"
   ]
  },
  {
   "cell_type": "code",
   "execution_count": null,
   "metadata": {},
   "outputs": [],
   "source": [
    "res_data = requests.get(url=et_dict['endpoint'] + '/$value?extent=WithBlobValue', headers={'Authorization': et_dict['token']})\n",
    "res_data"
   ]
  },
  {
   "cell_type": "code",
   "execution_count": null,
   "metadata": {},
   "outputs": [],
   "source": [
    "val = res_data.json()[res_data_info.json()['submodelElements'][0]['idShort']]['value']\n",
    "base64.b64decode(val).decode('utf-8')"
   ]
  },
  {
   "cell_type": "markdown",
   "metadata": {},
   "source": [
    "### Negotiate for Asset"
   ]
  },
  {
   "cell_type": "code",
   "execution_count": null,
   "metadata": {},
   "outputs": [],
   "source": [
    "# obtain all offers from the data provider using a catalog request:\n",
    "catalog_request_body = {  \n",
    "    \"@context\": {\n",
    "        \"@vocab\": \"https://w3id.org/edc/v0.0.1/ns/\",\n",
    "        \"odrl\":   \"http://www.w3.org/ns/odrl/2/\",\n",
    "        \"cx-taxo\": \"https://w3id.org/catenax/taxonomy#\"\n",
    "    },\n",
    "    \"@type\": \"CatalogRequest\",\n",
    "    \"counterPartyId\":      edc_provider_bpn,\n",
    "    \"counterPartyAddress\": url_edc_provider_control_plane_base + \"/api/v1/dsp\",\n",
    "    \"protocol\": \"dataspace-protocol-http\", \n",
    "    \"querySpec\": {\n",
    "        \"@type\": \"QuerySpec\",\n",
    "        \"filterExpression\": [\n",
    "            {\n",
    "                \"operandLeft\": \"'http://purl.org/dc/terms/type'.'@id'\",\n",
    "                \"operator\": \"=\",\n",
    "                \"operandRight\": \"https://w3id.org/catenax/taxonomy#Submodel\"  # <- here we say what we look for!\n",
    "            }\n",
    "        ]\n",
    "    }\n",
    "}"
   ]
  },
  {
   "cell_type": "code",
   "execution_count": null,
   "metadata": {},
   "outputs": [],
   "source": [
    "# note: we query against our own EDC (the consumer EDC, who then will negotiate with the target EDC)\n",
    "res_catalog = requests.post(url=url_edc_consumer_control_plane_base + '/management/v2/catalog/request', headers=header_control_plane, json=catalog_request_body)\n",
    "print(str_edc_catalog(res_catalog))"
   ]
  },
  {
   "cell_type": "code",
   "execution_count": 10,
   "metadata": {},
   "outputs": [],
   "source": [
    "# obtian offer and endpoint\n",
    "for dcat_dataset in res_catalog.json()['dcat:dataset']:\n",
    "    # look for the dataset with our id:\n",
    "    if dcat_dataset['@id'] == object_of_agreement:\n",
    "        asset_policy = dcat_dataset['odrl:hasPolicy']\n",
    "        offer_id     = asset_policy['@id']\n",
    "\n",
    "        # get negotiation endpoint: dct_endpointUrl\n",
    "        dct_endpointUrl = None\n",
    "        for distribution_method in dcat_dataset['dcat:distribution']:\n",
    "            if distribution_method['dct:format']['@id'] == 'HttpData-PULL':\n",
    "                dct_endpointUrl = distribution_method['dcat:accessService']['dct:endpointUrl']\n",
    "                break\n",
    "        # check if we actuall got the desired endpoint        \n",
    "        if dct_endpointUrl is not None:\n",
    "            break"
   ]
  },
  {
   "cell_type": "code",
   "execution_count": null,
   "metadata": {},
   "outputs": [],
   "source": [
    "# create request body for the EDR negotiate\n",
    "edr_negotiation_body = create_poc_ContractRequest_body(dct_endpointUrl, offer_id, edc_provider_bpn, object_of_agreement)\n",
    "res_edr_negotiation  = requests.post(url=url_edc_consumer_control_plane_base + '/management/v2/edrs', headers=header_control_plane, json=edr_negotiation_body)\n",
    "res_edr_negotiation\t\t"
   ]
  },
  {
   "cell_type": "code",
   "execution_count": null,
   "metadata": {},
   "outputs": [],
   "source": [
    "edr_negotation_id = res_edr_negotiation.json()['@id']\n",
    "edr_negotation_id   # <- necessary to get the state "
   ]
  },
  {
   "cell_type": "code",
   "execution_count": null,
   "metadata": {},
   "outputs": [],
   "source": [
    "# get the negotiation state:\n",
    "res_get_edr_negotiation_state = requests.get(url=url_edc_consumer_control_plane_base + '/management/v2/contractnegotiations/' + edr_negotation_id + '/state', headers=header_control_plane)\n",
    "res_get_edr_negotiation_state"
   ]
  },
  {
   "cell_type": "code",
   "execution_count": null,
   "metadata": {},
   "outputs": [],
   "source": [
    "res_get_edr_negotiation_state.json()    # <- this should have finalized"
   ]
  }
 ],
 "metadata": {
  "kernelspec": {
   "display_name": ".env",
   "language": "python",
   "name": "python3"
  },
  "language_info": {
   "codemirror_mode": {
    "name": "ipython",
    "version": 3
   },
   "file_extension": ".py",
   "mimetype": "text/x-python",
   "name": "python",
   "nbconvert_exporter": "python",
   "pygments_lexer": "ipython3",
   "version": "3.10.11"
  }
 },
 "nbformat": 4,
 "nbformat_minor": 2
}
